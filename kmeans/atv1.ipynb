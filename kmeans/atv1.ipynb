{
 "cells": [
  {
   "cell_type": "code",
   "execution_count": 3,
   "metadata": {},
   "outputs": [
    {
     "name": "stdout",
     "output_type": "stream",
     "text": [
      "   Teor Alcoólico  Acidez   pH  Cluster\n",
      "0               3       3  4.3        0\n",
      "1               4       2  2.8        0\n",
      "2               5       1  4.2        1\n",
      "3               6       0  3.9        1\n"
     ]
    },
    {
     "name": "stderr",
     "output_type": "stream",
     "text": [
      "c:\\Python312\\Lib\\site-packages\\sklearn\\cluster\\_kmeans.py:1416: FutureWarning: The default value of `n_init` will change from 10 to 'auto' in 1.4. Set the value of `n_init` explicitly to suppress the warning\n",
      "  super()._check_params_vs_input(X, default_n_init=10)\n"
     ]
    }
   ],
   "source": [
    "import numpy as np\n",
    "import pandas as pd\n",
    "from sklearn.cluster import KMeans\n",
    "\n",
    "\n",
    "data = {'Teor Alcoólico': [3, 4, 5, 6],\n",
    "        'Acidez': ['muito', 'pouco', 'médio', 'baixo'],\n",
    "        'pH': [4.3, 2.8, 4.2, 3.9]}\n",
    "\n",
    "df = pd.DataFrame(data)\n",
    "\n",
    "acidez_mapping = {'muito': 3, 'pouco': 2, 'médio': 1, 'baixo': 0}\n",
    "df['Acidez'] = df['Acidez'].map(acidez_mapping)\n",
    "\n",
    "\n",
    "X = df.values\n",
    "\n",
    "\n",
    "kmeans = KMeans(n_clusters=2, random_state=42)\n",
    "df['Cluster'] = kmeans.fit_predict(X)\n",
    "\n",
    "\n",
    "print(df)\n"
   ]
  }
 ],
 "metadata": {
  "kernelspec": {
   "display_name": "Python 3",
   "language": "python",
   "name": "python3"
  },
  "language_info": {
   "codemirror_mode": {
    "name": "ipython",
    "version": 3
   },
   "file_extension": ".py",
   "mimetype": "text/x-python",
   "name": "python",
   "nbconvert_exporter": "python",
   "pygments_lexer": "ipython3",
   "version": "3.12.0"
  }
 },
 "nbformat": 4,
 "nbformat_minor": 2
}
